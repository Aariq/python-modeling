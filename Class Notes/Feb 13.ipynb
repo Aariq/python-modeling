{
 "cells": [
  {
   "cell_type": "markdown",
   "metadata": {
    "collapsed": true
   },
   "source": [
    "# Random Numbers\n",
    "\n",
    "Many functions available.  For random integers, use `random.randrange()`"
   ]
  },
  {
   "cell_type": "code",
   "execution_count": 9,
   "metadata": {},
   "outputs": [
    {
     "name": "stdout",
     "output_type": "stream",
     "text": [
      "2\n8\n2\n"
     ]
    }
   ],
   "source": [
    "import random\n",
    "\n",
    "for i in range(3):\n",
    "    print(random.randrange(0,10))"
   ]
  },
  {
   "cell_type": "markdown",
   "metadata": {},
   "source": [
    "## Debugging random code\n",
    "\n",
    "Can set seed for random number generator with `random.seed()`.  Sets starting value for RNG."
   ]
  },
  {
   "cell_type": "code",
   "execution_count": 13,
   "metadata": {},
   "outputs": [
    {
     "name": "stdout",
     "output_type": "stream",
     "text": [
      "9\n4\n5\n"
     ]
    }
   ],
   "source": [
    "random.seed(5)\n",
    "for i in range(3):\n",
    "    print(random.randrange(0,10))"
   ]
  },
  {
   "cell_type": "code",
   "execution_count": 14,
   "metadata": {},
   "outputs": [
    {
     "name": "stdout",
     "output_type": "stream",
     "text": [
      "9\n4\n5\n"
     ]
    }
   ],
   "source": [
    "random.seed(5)\n",
    "for i in range(3):\n",
    "    print(random.randrange(0,10))"
   ]
  },
  {
   "cell_type": "code",
   "execution_count": 15,
   "metadata": {},
   "outputs": [
    {
     "name": "stdout",
     "output_type": "stream",
     "text": [
      "9\n9\n9\n9\n9\n"
     ]
    }
   ],
   "source": [
    "for i in range(5):\n",
    "    random.seed(5)\n",
    "    print(random.randrange(0,10))"
   ]
  },
  {
   "cell_type": "markdown",
   "metadata": {},
   "source": [
    "You could use `random.seed()` to find an instance that breaks your code to help with debugging."
   ]
  },
  {
   "cell_type": "markdown",
   "metadata": {},
   "source": [
    "## Random normal numbers\n",
    "Use `random.gauss(mean, sigma)` to get random normal numbers."
   ]
  },
  {
   "cell_type": "code",
   "execution_count": 20,
   "metadata": {},
   "outputs": [
    {
     "name": "stdout",
     "output_type": "stream",
     "text": [
      "0.9300096996692219\n-1.4583999840147381\n0.0019424213712528884\n"
     ]
    }
   ],
   "source": [
    "for i in range(3):\n",
    "    print(random.gauss(0,1))"
   ]
  },
  {
   "cell_type": "markdown",
   "metadata": {},
   "source": [
    "# Quantization\n",
    "AKA rounding.\n",
    "\n",
    "- `round()`\n",
    "- `np.round(array)`"
   ]
  },
  {
   "cell_type": "code",
   "execution_count": 21,
   "metadata": {},
   "outputs": [
    {
     "data": {
      "text/plain": [
       "4"
      ]
     },
     "execution_count": 21,
     "metadata": {},
     "output_type": "execute_result"
    }
   ],
   "source": [
    "round(4.3)"
   ]
  },
  {
   "cell_type": "code",
   "execution_count": 22,
   "metadata": {},
   "outputs": [
    {
     "data": {
      "text/plain": [
       "5"
      ]
     },
     "execution_count": 22,
     "metadata": {},
     "output_type": "execute_result"
    }
   ],
   "source": [
    "round(4.7)"
   ]
  },
  {
   "cell_type": "markdown",
   "metadata": {},
   "source": [
    "`round()` isn't vectorized.  It'll give an error if you try it on an array.  Use `np.round()`.  Can give it an argument for precision maybe"
   ]
  },
  {
   "cell_type": "code",
   "execution_count": 25,
   "metadata": {},
   "outputs": [
    {
     "data": {
      "text/plain": [
       "array([3., 2., 6.])"
      ]
     },
     "execution_count": 25,
     "metadata": {},
     "output_type": "execute_result"
    }
   ],
   "source": [
    "import numpy as np\n",
    "np.round(np.array([3.33333, 2.24444, 5.81111]))"
   ]
  },
  {
   "cell_type": "markdown",
   "metadata": {},
   "source": [
    "# If-Then statements\n",
    "## Bubble sort\n",
    "\n",
    "Compares first two numbers, sorts, then next two, etc.  Repeats several passes untill all numbers are in order.  This is the simplest way to sort numbers, but not most efficient.  We're going to use this as an example to illustrate if-then statments."
   ]
  },
  {
   "cell_type": "markdown",
   "metadata": {},
   "source": [
    "```\n",
    "card = np.array([10, 6, 8])\n",
    "n_card = len(cards)\n",
    "\n",
    "for pass in range(n_cards - 1):\n",
    "    for in in range(n_cards - 1):\n",
    "        if(card[i] > card[i+1]):\n",
    "            swap them\n",
    "```"
   ]
  },
  {
   "cell_type": "markdown",
   "metadata": {},
   "source": [
    "## If-then details\n",
    "\n",
    "if(condition):\n",
    "    statement...\n",
    "else:\n",
    "    ...\n",
    "\n",
    "Must all have same indentation\n",
    "\n",
    "`False` and `True` are python equivalent of `FALSE` and `TRUE` in R\n"
   ]
  },
  {
   "cell_type": "code",
   "execution_count": 26,
   "metadata": {},
   "outputs": [],
   "source": [
    "if(False):\n",
    "    print(\"true\")"
   ]
  },
  {
   "cell_type": "code",
   "execution_count": 27,
   "metadata": {},
   "outputs": [
    {
     "name": "stdout",
     "output_type": "stream",
     "text": [
      "true\n"
     ]
    }
   ],
   "source": [
    "if(True):\n",
    "    print(\"true\")"
   ]
  },
  {
   "cell_type": "markdown",
   "metadata": {},
   "source": [
    "Logical statements are mostly the same except \"and\" and \"or\" which are literally `and` and `or` in python"
   ]
  },
  {
   "cell_type": "code",
   "execution_count": 32,
   "metadata": {},
   "outputs": [
    {
     "data": {
      "text/plain": [
       "False"
      ]
     },
     "execution_count": 32,
     "metadata": {},
     "output_type": "execute_result"
    }
   ],
   "source": [
    "3<4 and 3==6"
   ]
  },
  {
   "cell_type": "code",
   "execution_count": 33,
   "metadata": {},
   "outputs": [
    {
     "data": {
      "text/plain": [
       "True"
      ]
     },
     "execution_count": 33,
     "metadata": {},
     "output_type": "execute_result"
    }
   ],
   "source": [
    "3<4 or 3==6"
   ]
  },
  {
   "cell_type": "markdown",
   "metadata": {},
   "source": [
    "## elif\n",
    "\n",
    "Portmanteau of \"else\" and \"if\".  Usefull if you have a sequence of conditions."
   ]
  },
  {
   "cell_type": "markdown",
   "metadata": {},
   "source": [
    "# practice exercises\n"
   ]
  },
  {
   "cell_type": "code",
   "execution_count": 36,
   "metadata": {},
   "outputs": [
    {
     "data": {
      "text/plain": [
       "15"
      ]
     },
     "execution_count": 36,
     "metadata": {},
     "output_type": "execute_result"
    }
   ],
   "source": [
    "a = np.zeros(15)\n",
    "\n",
    "len(a)"
   ]
  },
  {
   "cell_type": "code",
   "execution_count": 37,
   "metadata": {},
   "outputs": [
    {
     "data": {
      "text/plain": [
       "array([ 0.32632532,  0.53267394,  0.80376035,  0.66319573, -0.72020095,\n        0.60714019,  0.45272615, -0.12080665, -1.01706117,  0.83219276,\n        1.83007735, -1.30158392,  1.08453767,  1.24790166,  0.60582535])"
      ]
     },
     "execution_count": 37,
     "metadata": {},
     "output_type": "execute_result"
    }
   ],
   "source": [
    "for i in range(len(a)):\n",
    "    a[i] = random.gauss(0,1)\n",
    "    \n",
    "a"
   ]
  },
  {
   "cell_type": "code",
   "execution_count": 39,
   "metadata": {},
   "outputs": [
    {
     "name": "stdout",
     "output_type": "stream",
     "text": [
      "Pos\nPos\nPos\nPos\nNeg\nPos\nPos\nNeg\nNeg\nPos\nPos\nNeg\nPos\nPos\nPos\n"
     ]
    }
   ],
   "source": [
    "for i in range(len(a)):\n",
    "    if(a[i] > 0):\n",
    "        print(\"Pos\")\n",
    "    else:\n",
    "        print(\"Neg\")"
   ]
  },
  {
   "cell_type": "code",
   "execution_count": 42,
   "metadata": {},
   "outputs": [
    {
     "data": {
      "text/plain": [
       "array([56., 16., 16.,  0.,  0., 26., 99., 27., 21., 21., 37., 40., 25.,\n       69., 86.])"
      ]
     },
     "execution_count": 42,
     "metadata": {},
     "output_type": "execute_result"
    }
   ],
   "source": [
    "b = np.zeros(15)\n",
    "for i in range(len(b)):\n",
    "    b[i] = random.randrange(0,100)\n",
    "b"
   ]
  },
  {
   "cell_type": "code",
   "execution_count": 43,
   "metadata": {},
   "outputs": [
    {
     "name": "stdout",
     "output_type": "stream",
     "text": [
      "even\neven\neven\neven\neven\neven\nodd\nodd\nodd\nodd\nodd\neven\nodd\nodd\neven\n"
     ]
    }
   ],
   "source": [
    "for i in range(len(b)):\n",
    "    if(b[i] % 2 == 0):\n",
    "        print(\"even\")\n",
    "    else:\n",
    "        print(\"odd\")"
   ]
  },
  {
   "cell_type": "code",
   "execution_count": null,
   "metadata": {},
   "outputs": [],
   "source": []
  }
 ],
 "metadata": {
  "kernelspec": {
   "display_name": "Python 2",
   "language": "python",
   "name": "python2"
  },
  "language_info": {
   "codemirror_mode": {
    "name": "ipython",
    "version": 2
   },
   "file_extension": ".py",
   "mimetype": "text/x-python",
   "name": "python",
   "nbconvert_exporter": "python",
   "pygments_lexer": "ipython2",
   "version": "2.7.6"
  }
 },
 "nbformat": 4,
 "nbformat_minor": 0
}

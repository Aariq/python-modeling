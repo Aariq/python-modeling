{
 "cells": [
  {
   "cell_type": "markdown",
   "metadata": {
    "collapsed": true
   },
   "source": [
    "#Population models\n",
    "vital rates:\n",
    "\n",
    "- initial population size\n",
    "- birth rate\n",
    "- death rate\n",
    "\n",
    "Modeling makes it easy to change parameters and see what happens"
   ]
  },
  {
   "cell_type": "heading",
   "metadata": {},
   "level": 2,
   "source": [
    "Simple example"
   ]
  },
  {
   "cell_type": "code",
   "execution_count": 9,
   "metadata": {},
   "outputs": [
    {
     "name": "stdout",
     "output_type": "stream",
     "text": [
      "y1: 110.0\ny2: 121.0\ny3: 133.1\ny4: 146.41\n"
     ]
    }
   ],
   "source": [
    "y0 = 100\n",
    "death_rate = 0.1\n",
    "birth_rate = 0.2\n",
    "deaths = y0 * death_rate\n",
    "births = y0 * birth_rate\n",
    "\n",
    "y1 = y0 + births - deaths\n",
    "print(\"y1:\",y1)\n",
    "\n",
    "births = y1 * birth_rate\n",
    "deaths = y1 * death_rate\n",
    "\n",
    "y2 = y1 + births - deaths\n",
    "print(\"y2:\", y2)\n",
    "\n",
    "births = y2 * birth_rate\n",
    "deaths = y2 * death_rate\n",
    "\n",
    "y3 = y2 + births - deaths\n",
    "print(\"y3:\", y3)\n",
    "\n",
    "births = y3 * birth_rate\n",
    "deaths = y3 * death_rate\n",
    "\n",
    "y4 = y3+births - deaths\n",
    "print(\"y4:\", y4)"
   ]
  },
  {
   "cell_type": "markdown",
   "metadata": {},
   "source": []
  },
  {
   "cell_type": "markdown",
   "metadata": {},
   "source": []
  }
 ],
 "metadata": {
  "kernelspec": {
   "display_name": "Python 2",
   "language": "python",
   "name": "python2"
  },
  "language_info": {
   "codemirror_mode": {
    "name": "ipython",
    "version": 2
   },
   "file_extension": ".py",
   "mimetype": "text/x-python",
   "name": "python",
   "nbconvert_exporter": "python",
   "pygments_lexer": "ipython2",
   "version": "2.7.6"
  }
 },
 "nbformat": 4,
 "nbformat_minor": 0
}

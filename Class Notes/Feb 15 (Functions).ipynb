{
 "cells": [
  {
   "cell_type": "markdown",
   "metadata": {
    "collapsed": true
   },
   "source": [
    "# Functions\n",
    "\n",
    "Don't repeat yourself\n",
    "\n",
    "## Make a function\n",
    "function that calculates sum, mean, and standard deviation of an array"
   ]
  },
  {
   "cell_type": "code",
   "execution_count": 2,
   "metadata": {},
   "outputs": [],
   "source": [
    "def sm_mn_std(arr):   # def says it's a user-defined function. arr is inputs\n",
    "    sm = arr.sum()    # body of function\n",
    "    avg = arr.mean()\n",
    "    dev = arr.std()\n",
    "    return sm, avg, dev  # says what the outputs of the function are.\n",
    "  # easy to return multiple things"
   ]
  },
  {
   "cell_type": "markdown",
   "metadata": {},
   "source": [
    "Doing `arr.sum()` checks the class of the object `arr` and uses the appropriate version of `sum()` if there are multiple functions by the same name in different packages.  You could also do `np.sum(arr)` to call the same function.\n",
    "\n",
    "Don't call an object the same name as a package, there is no difference between the notation for calling a function from a package (`package.function()`) and calling the appropriate version of a function for an object (`object.functionname()`)"
   ]
  },
  {
   "cell_type": "code",
   "execution_count": 4,
   "metadata": {},
   "outputs": [
    {
     "name": "stdout",
     "output_type": "stream",
     "text": [
      "Data for Af = 15 ; 3.0 ; 1.4142135623730951\n"
     ]
    }
   ],
   "source": [
    "A = np.array([1,2,3,4,5])\n",
    "t1, a1, d1 = sm_mn_std(A)\n",
    "print('Data for Af =', t1, \";\", a1,\";\", d1)"
   ]
  },
  {
   "cell_type": "markdown",
   "metadata": {},
   "source": [
    "Can we include the print statment?"
   ]
  },
  {
   "cell_type": "code",
   "execution_count": 11,
   "metadata": {},
   "outputs": [
    {
     "name": "stdout",
     "output_type": "stream",
     "text": [
      "Data for  A = 15 ; 3.0 ; 1.4142135623730951\n"
     ]
    },
    {
     "data": {
      "text/plain": [
       "(15, 3.0, 1.4142135623730951)"
      ]
     },
     "execution_count": 11,
     "metadata": {},
     "output_type": "execute_result"
    }
   ],
   "source": [
    "def sm_mn_std(arr, name):   # def says it's a user-defined function. arr is inputs\n",
    "    sm = arr.sum()    # body of function\n",
    "    avg = arr.mean()\n",
    "    dev = arr.std()\n",
    "    print(\"Data for \", name, \"=\", sm, \";\", avg,\";\", dev)\n",
    "    return sm, avg, dev \n",
    "\n",
    "sm_mn_std(A, \"A\")"
   ]
  },
  {
   "cell_type": "markdown",
   "metadata": {},
   "source": [
    "Because of the weird aliasing thing that Python does, functions *will* modify objects they act on I think"
   ]
  },
  {
   "cell_type": "markdown",
   "metadata": {},
   "source": [
    "## Outputs\n",
    "Functions can return 0, 1, or many outputs.  The syntax is slightly different.\n",
    "\n",
    "no return statement:\n",
    "\n",
    "- `f1(3)`\n",
    "\n",
    "One output:\n",
    "\n",
    "- `a = f2(4)`\n",
    "\n",
    "Multiple outputs:\n",
    "\n",
    "- `a,b,c = f3(5)`"
   ]
  },
  {
   "cell_type": "code",
   "execution_count": null,
   "metadata": {},
   "outputs": [],
   "source": []
  }
 ],
 "metadata": {
  "kernelspec": {
   "display_name": "Python 2",
   "language": "python",
   "name": "python2"
  },
  "language_info": {
   "codemirror_mode": {
    "name": "ipython",
    "version": 2
   },
   "file_extension": ".py",
   "mimetype": "text/x-python",
   "name": "python",
   "nbconvert_exporter": "python",
   "pygments_lexer": "ipython2",
   "version": "2.7.6"
  }
 },
 "nbformat": 4,
 "nbformat_minor": 0
}
